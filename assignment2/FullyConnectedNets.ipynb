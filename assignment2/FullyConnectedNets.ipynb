{
 "cells": [
  {
   "cell_type": "code",
   "execution_count": 35,
   "metadata": {
    "ExecuteTime": {
     "end_time": "2019-05-01T04:25:46.960222Z",
     "start_time": "2019-05-01T04:25:46.944349Z"
    }
   },
   "outputs": [],
   "source": [
    "import pandas as pd"
   ]
  },
  {
   "cell_type": "code",
   "execution_count": 36,
   "metadata": {
    "ExecuteTime": {
     "end_time": "2019-05-01T04:25:47.147402Z",
     "start_time": "2019-05-01T04:25:47.133414Z"
    }
   },
   "outputs": [],
   "source": [
    "import sys"
   ]
  },
  {
   "cell_type": "code",
   "execution_count": 37,
   "metadata": {
    "ExecuteTime": {
     "end_time": "2019-05-01T04:25:47.474428Z",
     "start_time": "2019-05-01T04:25:47.444486Z"
    },
    "tags": [
     "pdf-ignore"
    ]
   },
   "outputs": [
    {
     "name": "stdout",
     "output_type": "stream",
     "text": [
      "The autoreload extension is already loaded. To reload it, use:\n",
      "  %reload_ext autoreload\n"
     ]
    }
   ],
   "source": [
    "# As usual, a bit of setup\n",
    "\n",
    "\n",
    "from __future__ import print_function\n",
    "import time\n",
    "import numpy as np\n",
    "import matplotlib.pyplot as plt\n",
    "from cs231n.classifiers.fc_net import *\n",
    "from cs231n.data_utils import get_CIFAR10_data\n",
    "from cs231n.gradient_check import eval_numerical_gradient, eval_numerical_gradient_array\n",
    "from cs231n.solver import Solver\n",
    "\n",
    "%matplotlib inline\n",
    "plt.rcParams['figure.figsize'] = (10.0, 8.0) # set default size of plots\n",
    "plt.rcParams['image.interpolation'] = 'nearest'\n",
    "plt.rcParams['image.cmap'] = 'gray'\n",
    "\n",
    "# for auto-reloading external modules\n",
    "# see http://stackoverflow.com/questions/1907993/autoreload-of-modules-in-ipython\n",
    "%load_ext autoreload\n",
    "%autoreload 2\n",
    "\n",
    "def rel_error(x, y):\n",
    "  \"\"\" returns relative error \"\"\"\n",
    "  return np.max(np.abs(x - y) / (np.maximum(1e-8, np.abs(x) + np.abs(y))))"
   ]
  },
  {
   "cell_type": "code",
   "execution_count": 38,
   "metadata": {
    "ExecuteTime": {
     "end_time": "2019-05-01T04:25:53.365143Z",
     "start_time": "2019-05-01T04:25:49.384772Z"
    },
    "tags": [
     "pdf-ignore"
    ]
   },
   "outputs": [
    {
     "name": "stdout",
     "output_type": "stream",
     "text": [
      "('X_train: ', (49000, 3, 32, 32))\n",
      "('y_train: ', (49000,))\n",
      "('X_val: ', (1000, 3, 32, 32))\n",
      "('y_val: ', (1000,))\n",
      "('X_test: ', (1000, 3, 32, 32))\n",
      "('y_test: ', (1000,))\n"
     ]
    }
   ],
   "source": [
    "# Load the (preprocessed) CIFAR10 data.\n",
    "\n",
    "data = get_CIFAR10_data()\n",
    "for k, v in list(data.items()):\n",
    "  print(('%s: ' % k, v.shape))"
   ]
  },
  {
   "cell_type": "markdown",
   "metadata": {},
   "source": [
    "# Affine layer: foward\n",
    "Open the file `cs231n/layers.py` and implement the `affine_forward` function.\n",
    "\n",
    "Once you are done you can test your implementaion by running the following:"
   ]
  },
  {
   "cell_type": "code",
   "execution_count": 4,
   "metadata": {
    "ExecuteTime": {
     "end_time": "2019-04-29T21:17:35.725507Z",
     "start_time": "2019-04-29T21:17:35.695688Z"
    }
   },
   "outputs": [
    {
     "name": "stdout",
     "output_type": "stream",
     "text": [
      "Testing affine_forward function:\n",
      "difference:  9.769847728806635e-10\n"
     ]
    }
   ],
   "source": [
    "# Test the affine_forward function\n",
    "\n",
    "num_inputs = 2\n",
    "input_shape = (4, 5, 6)\n",
    "output_dim = 3\n",
    "\n",
    "input_size = num_inputs * np.prod(input_shape)\n",
    "weight_size = output_dim * np.prod(input_shape)\n",
    "\n",
    "x = np.linspace(-0.1, 0.5, num=input_size).reshape(num_inputs, *input_shape)\n",
    "w = np.linspace(-0.2, 0.3, num=weight_size).reshape(np.prod(input_shape), output_dim)\n",
    "b = np.linspace(-0.3, 0.1, num=output_dim)\n",
    "\n",
    "out, _ = affine_forward(x, w, b)\n",
    "correct_out = np.array([[ 1.49834967,  1.70660132,  1.91485297],\n",
    "                        [ 3.25553199,  3.5141327,   3.77273342]])\n",
    "\n",
    "# Compare your output with ours. The error should be around e-9 or less.\n",
    "print('Testing affine_forward function:')\n",
    "print('difference: ', rel_error(out, correct_out))"
   ]
  },
  {
   "cell_type": "markdown",
   "metadata": {},
   "source": [
    "# Affine layer: backward\n",
    "Now implement the `affine_backward` function and test your implementation using numeric gradient checking."
   ]
  },
  {
   "cell_type": "code",
   "execution_count": 5,
   "metadata": {},
   "outputs": [
    {
     "name": "stdout",
     "output_type": "stream",
     "text": [
      "Testing affine_backward function:\n",
      "dx error:  5.399100368651805e-11\n",
      "dw error:  9.904211865398145e-11\n",
      "db error:  2.4122867568119087e-11\n"
     ]
    }
   ],
   "source": [
    "# Test the affine_backward function\n",
    "np.random.seed(231)\n",
    "x = np.random.randn(10, 2, 3)\n",
    "w = np.random.randn(6, 5)\n",
    "b = np.random.randn(5)\n",
    "dout = np.random.randn(10, 5)\n",
    "\n",
    "dx_num = eval_numerical_gradient_array(lambda x: affine_forward(x, w, b)[0], x, dout)\n",
    "dw_num = eval_numerical_gradient_array(lambda w: affine_forward(x, w, b)[0], w, dout)\n",
    "db_num = eval_numerical_gradient_array(lambda b: affine_forward(x, w, b)[0], b, dout)\n",
    "\n",
    "_, cache = affine_forward(x, w, b)\n",
    "dx, dw, db = affine_backward(dout, cache)\n",
    "\n",
    "# The error should be around e-10 or less\n",
    "print('Testing affine_backward function:')\n",
    "print('dx error: ', rel_error(dx_num, dx))\n",
    "print('dw error: ', rel_error(dw_num, dw))\n",
    "print('db error: ', rel_error(db_num, db))"
   ]
  },
  {
   "cell_type": "markdown",
   "metadata": {},
   "source": [
    "# ReLU activation: forward\n",
    "Implement the forward pass for the ReLU activation function in the `relu_forward` function and test your implementation using the following:"
   ]
  },
  {
   "cell_type": "code",
   "execution_count": 5,
   "metadata": {
    "ExecuteTime": {
     "end_time": "2019-04-29T21:17:35.743191Z",
     "start_time": "2019-04-29T21:17:35.728460Z"
    }
   },
   "outputs": [
    {
     "name": "stdout",
     "output_type": "stream",
     "text": [
      "Testing relu_forward function:\n",
      "difference:  4.999999798022158e-08\n"
     ]
    }
   ],
   "source": [
    "# Test the relu_forward function\n",
    "\n",
    "x = np.linspace(-0.5, 0.5, num=12).reshape(3, 4)\n",
    "\n",
    "out, _ = relu_forward(x)\n",
    "correct_out = np.array([[ 0.,          0.,          0.,          0.,        ],\n",
    "                        [ 0.,          0.,          0.04545455,  0.13636364,],\n",
    "                        [ 0.22727273,  0.31818182,  0.40909091,  0.5,       ]])\n",
    "\n",
    "# Compare your output with ours. The error should be on the order of e-8\n",
    "print('Testing relu_forward function:')\n",
    "print('difference: ', rel_error(out, correct_out))"
   ]
  },
  {
   "cell_type": "markdown",
   "metadata": {},
   "source": [
    "# ReLU activation: backward\n",
    "Now implement the backward pass for the ReLU activation function in the `relu_backward` function and test your implementation using numeric gradient checking:"
   ]
  },
  {
   "cell_type": "code",
   "execution_count": 7,
   "metadata": {},
   "outputs": [
    {
     "name": "stdout",
     "output_type": "stream",
     "text": [
      "Testing relu_backward function:\n",
      "dx error:  3.2756349136310288e-12\n"
     ]
    }
   ],
   "source": [
    "np.random.seed(231)\n",
    "x = np.random.randn(10, 10)\n",
    "dout = np.random.randn(*x.shape)\n",
    "\n",
    "dx_num = eval_numerical_gradient_array(lambda x: relu_forward(x)[0], x, dout)\n",
    "\n",
    "_, cache = relu_forward(x)\n",
    "dx = relu_backward(dout, cache)\n",
    "\n",
    "# The error should be on the order of e-12\n",
    "print('Testing relu_backward function:')\n",
    "print('dx error: ', rel_error(dx_num, dx))"
   ]
  },
  {
   "cell_type": "markdown",
   "metadata": {
    "tags": [
     "pdf-inline"
    ]
   },
   "source": [
    "## Inline Question 1: \n",
    "\n",
    "We've only asked you to implement ReLU, but there are a number of different activation functions that one could use in neural networks, each with its pros and cons. In particular, an issue commonly seen with activation functions is getting zero (or close to zero) gradient flow during backpropagation. Which of the following activation functions have this problem? If you consider these functions in the one dimensional case, what types of input would lead to this behaviour?\n",
    "1. Sigmoid\n",
    "2. ReLU\n",
    "3. Leaky ReLU\n",
    "\n",
    "## Answer:\n",
    "\n",
    "1. Sigmoid -- near 0 gradient for input far from zero\n",
    "2. ReLU -- 0 gradient for negative input\n",
    "3. Leaky ReLU -- gradient is either x or leak*x, so not a huge problem\n"
   ]
  },
  {
   "cell_type": "markdown",
   "metadata": {},
   "source": [
    "# \"Sandwich\" layers\n",
    "There are some common patterns of layers that are frequently used in neural nets. For example, affine layers are frequently followed by a ReLU nonlinearity. To make these common patterns easy, we define several convenience layers in the file `cs231n/layer_utils.py`.\n",
    "\n",
    "For now take a look at the `affine_relu_forward` and `affine_relu_backward` functions, and run the following to numerically gradient check the backward pass:"
   ]
  },
  {
   "cell_type": "code",
   "execution_count": 6,
   "metadata": {
    "ExecuteTime": {
     "end_time": "2019-04-29T21:17:35.773146Z",
     "start_time": "2019-04-29T21:17:35.745118Z"
    }
   },
   "outputs": [
    {
     "name": "stdout",
     "output_type": "stream",
     "text": [
      "Testing affine_relu_forward and affine_relu_backward:\n",
      "dx error:  6.750562121603446e-11\n",
      "dw error:  8.162015570444288e-11\n",
      "db error:  7.826724021458994e-12\n"
     ]
    }
   ],
   "source": [
    "from cs231n.layer_utils import affine_relu_forward, affine_relu_backward\n",
    "np.random.seed(231)\n",
    "x = np.random.randn(2, 3, 4)\n",
    "w = np.random.randn(12, 10)\n",
    "b = np.random.randn(10)\n",
    "dout = np.random.randn(2, 10)\n",
    "\n",
    "out, cache = affine_relu_forward(x, w, b)\n",
    "dx, dw, db = affine_relu_backward(dout, cache)\n",
    "\n",
    "dx_num = eval_numerical_gradient_array(lambda x: affine_relu_forward(x, w, b)[0], x, dout)\n",
    "dw_num = eval_numerical_gradient_array(lambda w: affine_relu_forward(x, w, b)[0], w, dout)\n",
    "db_num = eval_numerical_gradient_array(lambda b: affine_relu_forward(x, w, b)[0], b, dout)\n",
    "\n",
    "# Relative error should be around e-10 or less\n",
    "print('Testing affine_relu_forward and affine_relu_backward:')\n",
    "print('dx error: ', rel_error(dx_num, dx))\n",
    "print('dw error: ', rel_error(dw_num, dw))\n",
    "print('db error: ', rel_error(db_num, db))"
   ]
  },
  {
   "cell_type": "markdown",
   "metadata": {},
   "source": [
    "# Loss layers: Softmax and SVM\n",
    "You implemented these loss functions in the last assignment, so we'll give them to you for free here. You should still make sure you understand how they work by looking at the implementations in `cs231n/layers.py`.\n",
    "\n",
    "You can make sure that the implementations are correct by running the following:"
   ]
  },
  {
   "cell_type": "code",
   "execution_count": 7,
   "metadata": {
    "ExecuteTime": {
     "end_time": "2019-04-29T21:17:36.099536Z",
     "start_time": "2019-04-29T21:17:35.958802Z"
    }
   },
   "outputs": [
    {
     "name": "stdout",
     "output_type": "stream",
     "text": [
      "Testing svm_loss:\n",
      "loss:  8.999602749096233\n",
      "dx error:  1.4021566006651672e-09\n",
      "\n",
      "Testing softmax_loss:\n",
      "loss:  2.302545844500738\n",
      "dx error:  9.384673161989355e-09\n"
     ]
    }
   ],
   "source": [
    "np.random.seed(231)\n",
    "num_classes, num_inputs = 10, 50\n",
    "x = 0.001 * np.random.randn(num_inputs, num_classes)\n",
    "y = np.random.randint(num_classes, size=num_inputs)\n",
    "\n",
    "dx_num = eval_numerical_gradient(lambda x: svm_loss(x, y)[0], x, verbose=False)\n",
    "loss, dx = svm_loss(x, y)\n",
    "\n",
    "# Test svm_loss function. Loss should be around 9 and dx error should be around the order of e-9\n",
    "print('Testing svm_loss:')\n",
    "print('loss: ', loss)\n",
    "print('dx error: ', rel_error(dx_num, dx))\n",
    "\n",
    "dx_num = eval_numerical_gradient(lambda x: softmax_loss(x, y)[0], x, verbose=False)\n",
    "loss, dx = softmax_loss(x, y)\n",
    "\n",
    "# Test softmax_loss function. Loss should be close to 2.3 and dx error should be around e-8\n",
    "print('\\nTesting softmax_loss:')\n",
    "print('loss: ', loss)\n",
    "print('dx error: ', rel_error(dx_num, dx))"
   ]
  },
  {
   "cell_type": "markdown",
   "metadata": {},
   "source": [
    "# Two-layer network\n",
    "In the previous assignment you implemented a two-layer neural network in a single monolithic class. Now that you have implemented modular versions of the necessary layers, you will reimplement the two layer network using these modular implementations.\n",
    "\n",
    "Open the file `cs231n/classifiers/fc_net.py` and complete the implementation of the `TwoLayerNet` class. This class will serve as a model for the other networks you will implement in this assignment, so read through it to make sure you understand the API. You can run the cell below to test your implementation."
   ]
  },
  {
   "cell_type": "code",
   "execution_count": 8,
   "metadata": {
    "ExecuteTime": {
     "end_time": "2019-04-29T21:17:36.845978Z",
     "start_time": "2019-04-29T21:17:36.416583Z"
    }
   },
   "outputs": [
    {
     "name": "stdout",
     "output_type": "stream",
     "text": [
      "Testing initialization ... \n",
      "Testing test-time forward pass ... \n",
      "Testing training loss (no regularization)\n",
      "Running numeric gradient check with reg =  0.0\n",
      "W1 relative error: 1.22e-08\n",
      "W2 relative error: 3.48e-10\n",
      "b1 relative error: 6.55e-09\n",
      "b2 relative error: 4.33e-10\n",
      "Running numeric gradient check with reg =  0.7\n",
      "W1 relative error: 8.18e-07\n",
      "W2 relative error: 2.85e-08\n",
      "b1 relative error: 1.09e-09\n",
      "b2 relative error: 7.76e-10\n"
     ]
    }
   ],
   "source": [
    "np.random.seed(231)\n",
    "N, D, H, C = 3, 5, 50, 7\n",
    "X = np.random.randn(N, D)\n",
    "y = np.random.randint(C, size=N)\n",
    "\n",
    "std = 1e-3\n",
    "model = TwoLayerNet(input_dim=D, hidden_dim=H, num_classes=C, weight_scale=std)\n",
    "\n",
    "print('Testing initialization ... ')\n",
    "W1_std = abs(model.params['W1'].std() - std)\n",
    "b1 = model.params['b1']\n",
    "W2_std = abs(model.params['W2'].std() - std)\n",
    "b2 = model.params['b2']\n",
    "assert W1_std < std / 10, 'First layer weights do not seem right'\n",
    "assert np.all(b1 == 0), 'First layer biases do not seem right'\n",
    "assert W2_std < std / 10, 'Second layer weights do not seem right'\n",
    "assert np.all(b2 == 0), 'Second layer biases do not seem right'\n",
    "\n",
    "print('Testing test-time forward pass ... ')\n",
    "model.params['W1'] = np.linspace(-0.7, 0.3, num=D*H).reshape(D, H)\n",
    "model.params['b1'] = np.linspace(-0.1, 0.9, num=H)\n",
    "model.params['W2'] = np.linspace(-0.3, 0.4, num=H*C).reshape(H, C)\n",
    "model.params['b2'] = np.linspace(-0.9, 0.1, num=C)\n",
    "X = np.linspace(-5.5, 4.5, num=N*D).reshape(D, N).T\n",
    "scores = model.loss(X)\n",
    "correct_scores = np.asarray(\n",
    "  [[11.53165108,  12.2917344,   13.05181771,  13.81190102,  14.57198434, 15.33206765,  16.09215096],\n",
    "   [12.05769098,  12.74614105,  13.43459113,  14.1230412,   14.81149128, 15.49994135,  16.18839143],\n",
    "   [12.58373087,  13.20054771,  13.81736455,  14.43418138,  15.05099822, 15.66781506,  16.2846319 ]])\n",
    "scores_diff = np.abs(scores - correct_scores).sum()\n",
    "assert scores_diff < 1e-6, 'Problem with test-time forward pass'\n",
    "\n",
    "print('Testing training loss (no regularization)')\n",
    "y = np.asarray([0, 5, 1])\n",
    "loss, grads = model.loss(X, y)\n",
    "correct_loss = 3.4702243556\n",
    "assert abs(loss - correct_loss) < 1e-10, 'Problem with training-time loss'\n",
    "\n",
    "model.reg = 1.0\n",
    "loss, grads = model.loss(X, y)\n",
    "correct_loss = 26.5948426952\n",
    "assert abs(loss - correct_loss) < 1e-10, 'Problem with regularization loss'\n",
    "\n",
    "# Errors should be around e-7 or less\n",
    "for reg in [0.0, 0.7]:\n",
    "  print('Running numeric gradient check with reg = ', reg)\n",
    "  model.reg = reg\n",
    "  loss, grads = model.loss(X, y)\n",
    "\n",
    "  for name in sorted(grads):\n",
    "    f = lambda _: model.loss(X, y)[0]\n",
    "    grad_num = eval_numerical_gradient(f, model.params[name], verbose=False)\n",
    "    print('%s relative error: %.2e' % (name, rel_error(grad_num, grads[name])))"
   ]
  },
  {
   "cell_type": "markdown",
   "metadata": {},
   "source": [
    "# Solver\n",
    "In the previous assignment, the logic for training models was coupled to the models themselves. Following a more modular design, for this assignment we have split the logic for training models into a separate class.\n",
    "\n",
    "Open the file `cs231n/solver.py` and read through it to familiarize yourself with the API. After doing so, use a `Solver` instance to train a `TwoLayerNet` that achieves at least `50%` accuracy on the validation set."
   ]
  },
  {
   "cell_type": "code",
   "execution_count": 10,
   "metadata": {
    "ExecuteTime": {
     "end_time": "2019-04-29T21:18:31.211560Z",
     "start_time": "2019-04-29T21:17:50.363153Z"
    }
   },
   "outputs": [
    {
     "name": "stdout",
     "output_type": "stream",
     "text": [
      "(Iteration 1 / 4900) loss: 2.308875\n",
      "(Epoch 0 / 10) train acc: 0.123000; val_acc: 0.135000\n",
      "(Iteration 101 / 4900) loss: 1.700861\n",
      "(Iteration 201 / 4900) loss: 1.679768\n",
      "(Iteration 301 / 4900) loss: 1.741198\n",
      "(Iteration 401 / 4900) loss: 1.850055\n",
      "(Epoch 1 / 10) train acc: 0.461000; val_acc: 0.444000\n",
      "(Iteration 501 / 4900) loss: 1.540093\n",
      "(Iteration 601 / 4900) loss: 1.451903\n",
      "(Iteration 701 / 4900) loss: 1.412226\n",
      "(Iteration 801 / 4900) loss: 1.528477\n",
      "(Iteration 901 / 4900) loss: 1.317634\n",
      "(Epoch 2 / 10) train acc: 0.510000; val_acc: 0.477000\n",
      "(Iteration 1001 / 4900) loss: 1.524249\n",
      "(Iteration 1101 / 4900) loss: 1.210059\n",
      "(Iteration 1201 / 4900) loss: 1.275690\n",
      "(Iteration 1301 / 4900) loss: 1.467718\n",
      "(Iteration 1401 / 4900) loss: 1.434169\n",
      "(Epoch 3 / 10) train acc: 0.497000; val_acc: 0.465000\n",
      "(Iteration 1501 / 4900) loss: 1.175920\n",
      "(Iteration 1601 / 4900) loss: 1.254066\n",
      "(Iteration 1701 / 4900) loss: 1.283234\n",
      "(Iteration 1801 / 4900) loss: 1.318761\n",
      "(Iteration 1901 / 4900) loss: 1.194831\n",
      "(Epoch 4 / 10) train acc: 0.523000; val_acc: 0.489000\n",
      "(Iteration 2001 / 4900) loss: 1.247728\n",
      "(Iteration 2101 / 4900) loss: 1.191491\n",
      "(Iteration 2201 / 4900) loss: 1.263337\n",
      "(Iteration 2301 / 4900) loss: 1.272243\n",
      "(Iteration 2401 / 4900) loss: 1.462985\n",
      "(Epoch 5 / 10) train acc: 0.570000; val_acc: 0.515000\n",
      "(Iteration 2501 / 4900) loss: 1.335104\n",
      "(Iteration 2601 / 4900) loss: 1.237112\n",
      "(Iteration 2701 / 4900) loss: 1.428042\n",
      "(Iteration 2801 / 4900) loss: 1.216085\n",
      "(Iteration 2901 / 4900) loss: 1.363896\n",
      "(Epoch 6 / 10) train acc: 0.544000; val_acc: 0.479000\n",
      "(Iteration 3001 / 4900) loss: 1.120249\n",
      "(Iteration 3101 / 4900) loss: 1.544953\n",
      "(Iteration 3201 / 4900) loss: 1.094756\n",
      "(Iteration 3301 / 4900) loss: 1.126667\n",
      "(Iteration 3401 / 4900) loss: 1.087570\n",
      "(Epoch 7 / 10) train acc: 0.562000; val_acc: 0.485000\n",
      "(Iteration 3501 / 4900) loss: 1.167247\n",
      "(Iteration 3601 / 4900) loss: 1.167334\n",
      "(Iteration 3701 / 4900) loss: 1.110676\n",
      "(Iteration 3801 / 4900) loss: 1.223755\n",
      "(Iteration 3901 / 4900) loss: 1.139940\n",
      "(Epoch 8 / 10) train acc: 0.581000; val_acc: 0.503000\n",
      "(Iteration 4001 / 4900) loss: 1.237393\n",
      "(Iteration 4101 / 4900) loss: 1.116337\n",
      "(Iteration 4201 / 4900) loss: 1.058497\n",
      "(Iteration 4301 / 4900) loss: 1.213962\n",
      "(Iteration 4401 / 4900) loss: 1.188407\n",
      "(Epoch 9 / 10) train acc: 0.590000; val_acc: 0.524000\n",
      "(Iteration 4501 / 4900) loss: 1.142433\n",
      "(Iteration 4601 / 4900) loss: 1.194585\n",
      "(Iteration 4701 / 4900) loss: 1.044812\n",
      "(Iteration 4801 / 4900) loss: 1.118447\n",
      "(Epoch 10 / 10) train acc: 0.639000; val_acc: 0.507000\n"
     ]
    }
   ],
   "source": [
    "\n",
    "##############################################################################\n",
    "# TODO: Use a Solver instance to train a TwoLayerNet that achieves at least  #\n",
    "# 50% accuracy on the validation set.                                        #\n",
    "##############################################################################\n",
    "# *****START OF YOUR CODE (DO NOT DELETE/MODIFY THIS LINE)*****\n",
    "\n",
    "model = TwoLayerNet()\n",
    "solver =  Solver(model, data,\n",
    "                  update_rule='sgd',\n",
    "                  optim_config={\n",
    "                    'learning_rate': 1e-3,\n",
    "                  },\n",
    "                  lr_decay=0.95,\n",
    "                  num_epochs=10, batch_size=100,\n",
    "                  print_every=100)\n",
    "solver.train()\n",
    "\n",
    "# *****END OF YOUR CODE (DO NOT DELETE/MODIFY THIS LINE)*****\n",
    "##############################################################################\n",
    "#                             END OF YOUR CODE                               #\n",
    "##############################################################################"
   ]
  },
  {
   "cell_type": "code",
   "execution_count": 12,
   "metadata": {},
   "outputs": [
    {
     "data": {
      "image/png": "[encoded data removed]",
      "text/plain": [
       "<Figure size 1080x864 with 2 Axes>"
      ]
     },
     "metadata": {
      "needs_background": "light"
     },
     "output_type": "display_data"
    }
   ],
   "source": [
    "# Run this cell to visualize training loss and train / val accuracy\n",
    "\n",
    "plt.subplot(2, 1, 1)\n",
    "plt.title('Training loss')\n",
    "plt.plot(solver.loss_history, 'o')\n",
    "plt.xlabel('Iteration')\n",
    "\n",
    "plt.subplot(2, 1, 2)\n",
    "plt.title('Accuracy')\n",
    "plt.plot(solver.train_acc_history, '-o', label='train')\n",
    "plt.plot(solver.val_acc_history, '-o', label='val')\n",
    "plt.plot([0.5] * len(solver.val_acc_history), 'k--')\n",
    "plt.xlabel('Epoch')\n",
    "plt.legend(loc='lower right')\n",
    "plt.gcf().set_size_inches(15, 12)\n",
    "plt.show()"
   ]
  },
  {
   "cell_type": "markdown",
   "metadata": {},
   "source": [
    "# Multilayer network\n",
    "Next you will implement a fully-connected network with an arbitrary number of hidden layers.\n",
    "\n",
    "Read through the `FullyConnectedNet` class in the file `cs231n/classifiers/fc_net.py`.\n",
    "\n",
    "Implement the initialization, the forward pass, and the backward pass. For the moment don't worry about implementing dropout or batch/layer normalization; we will add those features soon."
   ]
  },
  {
   "cell_type": "markdown",
   "metadata": {},
   "source": [
    "## Initial loss and gradient check\n",
    "\n",
    "As a sanity check, run the following to check the initial loss and to gradient check the network both with and without regularization. Do the initial losses seem reasonable?\n",
    "\n",
    "For gradient checking, you should expect to see errors around 1e-7 or less."
   ]
  },
  {
   "cell_type": "code",
   "execution_count": 11,
   "metadata": {
    "ExecuteTime": {
     "end_time": "2019-04-29T21:18:32.360172Z",
     "start_time": "2019-04-29T21:18:31.214978Z"
    }
   },
   "outputs": [
    {
     "name": "stdout",
     "output_type": "stream",
     "text": [
      "Running check with reg =  0\n",
      "Initial loss:  2.3026474809653052\n",
      "W1 relative error: 2.59e-06\n",
      "W2 relative error: 8.04e-06\n",
      "W3 relative error: 2.82e-07\n",
      "b1 relative error: 1.41e-07\n",
      "b2 relative error: 2.26e-08\n",
      "b3 relative error: 2.61e-10\n",
      "Running check with reg =  3.14\n",
      "Initial loss:  7.052859285343511\n",
      "W1 relative error: 2.23e-08\n",
      "W2 relative error: 1.93e-08\n",
      "W3 relative error: 4.37e-07\n",
      "b1 relative error: 1.06e-07\n",
      "b2 relative error: 2.58e-08\n",
      "b3 relative error: 3.24e-10\n"
     ]
    }
   ],
   "source": [
    "np.random.seed(231)\n",
    "N, D, H1, H2, C = 2, 15, 20, 30, 10\n",
    "X = np.random.randn(N, D)\n",
    "y = np.random.randint(C, size=(N,))\n",
    "\n",
    "for reg in [0, 3.14]:\n",
    "  print('Running check with reg = ', reg)\n",
    "  model = FullyConnectedNet([H1, H2], input_dim=D, num_classes=C,\n",
    "                            reg=reg, weight_scale=5e-2, dtype=np.float64)\n",
    "\n",
    "  loss, grads = model.loss(X, y)\n",
    "  print('Initial loss: ', loss)\n",
    "  \n",
    "  # Most of the errors should be on the order of e-7 or smaller.   \n",
    "  # NOTE: It is fine however to see an error for W2 on the order of e-5\n",
    "  # for the check when reg = 0.0\n",
    "  for name in sorted(grads):\n",
    "    f = lambda _: model.loss(X, y)[0]\n",
    "    grad_num = eval_numerical_gradient(f, model.params[name], verbose=False, h=1e-5)\n",
    "    print('%s relative error: %.2e' % (name, rel_error(grad_num, grads[name])))"
   ]
  },
  {
   "cell_type": "markdown",
   "metadata": {},
   "source": [
    "As another sanity check, make sure you can overfit a small dataset of 50 images. First we will try a three-layer network with 100 units in each hidden layer. In the following cell, tweak the **learning rate** and **weight initialization scale** to overfit and achieve 100% training accuracy within 20 epochs."
   ]
  },
  {
   "cell_type": "code",
   "execution_count": 21,
   "metadata": {
    "ExecuteTime": {
     "end_time": "2019-04-29T21:22:39.169853Z",
     "start_time": "2019-04-29T21:22:39.151570Z"
    },
    "code_folding": [
     13
    ],
    "scrolled": false
   },
   "outputs": [],
   "source": [
    "# TODO: Use a three-layer Net to overfit 50 training examples by \n",
    "# tweaking just the learning rate and initialization scale.\n",
    "\n",
    "num_train = 50\n",
    "small_data = {\n",
    "  'X_train': data['X_train'][:num_train],\n",
    "  'y_train': data['y_train'][:num_train],\n",
    "  'X_val': data['X_val'],\n",
    "  'y_val': data['y_val'],\n",
    "}\n",
    "\n",
    "weight_scale = 2  # Experiment with this!\n",
    "learning_rate = 1  # Experiment with this!\n",
    "def score(lr, ws):\n",
    "    learning_rate = 10 ** -lr\n",
    "    weight_scale = 10 ** -ws\n",
    "    model = FullyConnectedNet([100, 100],\n",
    "              weight_scale=weight_scale, dtype=np.float64)\n",
    "    solver = Solver(model, small_data,\n",
    "                print_every=100, num_epochs=20, batch_size=25,\n",
    "                update_rule='sgd',\n",
    "                optim_config={\n",
    "                  'learning_rate': learning_rate,\n",
    "                }\n",
    "         )\n",
    "    solver.train()\n",
    "    return solver.train_acc_history[-1]\n"
   ]
  },
  {
   "cell_type": "code",
   "execution_count": 18,
   "metadata": {
    "ExecuteTime": {
     "end_time": "2019-04-29T21:19:56.850095Z",
     "start_time": "2019-04-29T21:19:56.837352Z"
    }
   },
   "outputs": [],
   "source": [
    "#score(None, None)"
   ]
  },
  {
   "cell_type": "code",
   "execution_count": 63,
   "metadata": {
    "ExecuteTime": {
     "end_time": "2019-04-29T21:36:11.045816Z",
     "start_time": "2019-04-29T21:36:09.946911Z"
    }
   },
   "outputs": [],
   "source": [
    "from sklearn.model_selection import ParameterGrid\n",
    "ParameterGrid.l = property(lambda self: list(self))"
   ]
  },
  {
   "cell_type": "code",
   "execution_count": 65,
   "metadata": {
    "ExecuteTime": {
     "end_time": "2019-04-29T21:36:22.772612Z",
     "start_time": "2019-04-29T21:36:22.753746Z"
    }
   },
   "outputs": [
    {
     "data": {
      "text/plain": [
       "[{'j': 2}]"
      ]
     },
     "execution_count": 65,
     "metadata": {},
     "output_type": "execute_result"
    }
   ],
   "source": []
  },
  {
   "cell_type": "code",
   "execution_count": 20,
   "metadata": {
    "ExecuteTime": {
     "end_time": "2019-04-29T21:20:12.797916Z",
     "start_time": "2019-04-29T21:20:12.786389Z"
    }
   },
   "outputs": [],
   "source": [
    "score(2., 2.)"
   ]
  },
  {
   "cell_type": "code",
   "execution_count": 32,
   "metadata": {
    "ExecuteTime": {
     "end_time": "2019-04-29T21:29:21.038057Z",
     "start_time": "2019-04-29T21:29:20.184201Z"
    }
   },
   "outputs": [
    {
     "name": "stdout",
     "output_type": "stream",
     "text": [
      "(Iteration 1 / 40) loss: 2.281084\n",
      "(Epoch 0 / 20) train acc: 0.220000; val_acc: 0.113000\n",
      "(Epoch 1 / 20) train acc: 0.220000; val_acc: 0.110000\n",
      "(Epoch 2 / 20) train acc: 0.520000; val_acc: 0.162000\n",
      "(Epoch 3 / 20) train acc: 0.540000; val_acc: 0.167000\n",
      "(Epoch 4 / 20) train acc: 0.420000; val_acc: 0.142000\n",
      "(Epoch 5 / 20) train acc: 0.620000; val_acc: 0.152000\n",
      "(Epoch 6 / 20) train acc: 0.660000; val_acc: 0.167000\n",
      "(Epoch 7 / 20) train acc: 0.720000; val_acc: 0.152000\n",
      "(Epoch 8 / 20) train acc: 0.720000; val_acc: 0.177000\n",
      "(Epoch 9 / 20) train acc: 0.640000; val_acc: 0.158000\n",
      "(Epoch 10 / 20) train acc: 0.760000; val_acc: 0.177000\n",
      "(Epoch 11 / 20) train acc: 0.840000; val_acc: 0.161000\n",
      "(Epoch 12 / 20) train acc: 0.900000; val_acc: 0.182000\n",
      "(Epoch 13 / 20) train acc: 0.960000; val_acc: 0.196000\n",
      "(Epoch 14 / 20) train acc: 0.960000; val_acc: 0.194000\n",
      "(Epoch 15 / 20) train acc: 0.960000; val_acc: 0.199000\n",
      "(Epoch 16 / 20) train acc: 0.960000; val_acc: 0.197000\n",
      "(Epoch 17 / 20) train acc: 0.920000; val_acc: 0.176000\n",
      "(Epoch 18 / 20) train acc: 0.960000; val_acc: 0.199000\n",
      "(Epoch 19 / 20) train acc: 0.980000; val_acc: 0.216000\n",
      "(Epoch 20 / 20) train acc: 1.000000; val_acc: 0.197000\n"
     ]
    }
   ],
   "source": [
    "learning_rate = .01\n",
    "weight_scale = .01\n",
    "model = FullyConnectedNet([100, 100],\n",
    "          weight_scale=weight_scale, dtype=np.float64)\n",
    "solver = Solver(model, small_data,\n",
    "            print_every=100, num_epochs=20, batch_size=25,\n",
    "            update_rule='sgd',\n",
    "            optim_config={\n",
    "              'learning_rate': learning_rate,\n",
    "            }\n",
    "     )\n",
    "solver.train()\n"
   ]
  },
  {
   "cell_type": "code",
   "execution_count": null,
   "metadata": {
    "scrolled": false
   },
   "outputs": [],
   "source": [
    "from tqdm import *\n",
    "#scores = []\n",
    "scores = [score(**g) for g in tqdm_notebook(pg)]"
   ]
  },
  {
   "cell_type": "code",
   "execution_count": 41,
   "metadata": {
    "ExecuteTime": {
     "end_time": "2019-04-29T21:33:08.118025Z",
     "start_time": "2019-04-29T21:33:08.102116Z"
    }
   },
   "outputs": [],
   "source": [
    "import pandas as pd\n",
    "def _make_res(pg, scores):\n",
    "    res_df = pd.DataFrame(pg).assign(score= pd.Series(scores))\n",
    "    res_df.sort_values('score', ascending=False)\n",
    "    return res_df\n",
    "#pd.concat([res_df, _make_res(pg, scores)]).sort_values('score', ascending=False)\n",
    "   \n",
    "# if res_df:\n",
    "#     res_df = pd.DataFrame(pg).assign(score= pd.Series(scores))\n",
    "#     res_df.sort_values('score', ascending=False)\n",
    "    "
   ]
  },
  {
   "cell_type": "code",
   "execution_count": 38,
   "metadata": {
    "ExecuteTime": {
     "end_time": "2019-04-29T21:30:32.289554Z",
     "start_time": "2019-04-29T21:30:32.135283Z"
    }
   },
   "outputs": [
    {
     "data": {
      "image/png": "[encoded data removed]",
      "text/plain": [
       "<Figure size 432x288 with 1 Axes>"
      ]
     },
     "metadata": {
      "needs_background": "light"
     },
     "output_type": "display_data"
    }
   ],
   "source": [
    "plt.plot(solver.loss_history, 'o')\n",
    "plt.title('Training loss history')\n",
    "plt.xlabel('Iteration')\n",
    "plt.ylabel('Training loss')\n",
    "plt.show()"
   ]
  },
  {
   "cell_type": "markdown",
   "metadata": {},
   "source": [
    "Now try to use a five-layer network with 100 units on each layer to overfit 50 training examples. Again, you will have to adjust the learning rate and weight initialization scale, but you should be able to achieve 100% training accuracy within 20 epochs."
   ]
  },
  {
   "cell_type": "code",
   "execution_count": 39,
   "metadata": {
    "ExecuteTime": {
     "end_time": "2019-05-01T04:26:24.319069Z",
     "start_time": "2019-05-01T04:26:24.297824Z"
    }
   },
   "outputs": [],
   "source": [
    "# TODO: Use a five-layer Net to overfit 50 training examples by \n",
    "# tweaking just the learning rate and initialization scale.\n",
    "\n",
    "num_train = 50\n",
    "small_data = {\n",
    "  'X_train': data['X_train'][:num_train],\n",
    "  'y_train': data['y_train'][:num_train],\n",
    "  'X_val': data['X_val'],\n",
    "  'y_val': data['y_val'],\n",
    "}\n",
    "\n",
    "#learning_rate = 2e-3  # Experiment with this!\n",
    "#weight_scale = 1e-5   # Experiment with this!\n",
    "learning_rate = 1e-3\n",
    "weight_scale = 5e-2\n",
    "def score(learning_rate, weight_scale):\n",
    "    #learning_rate = 10 ** -lr\n",
    "    #weight_scale = 10 ** -ws\n",
    "    model = FullyConnectedNet([100, 100, 100, 100],\n",
    "              weight_scale=weight_scale, dtype=np.float64)\n",
    "    solver = Solver(model, small_data,\n",
    "                print_every=100, num_epochs=20, batch_size=25,\n",
    "                update_rule='sgd',\n",
    "                optim_config={\n",
    "                  'learning_rate': learning_rate,\n",
    "                }\n",
    "         )\n",
    "    solver.train()\n",
    "    return solver#.train_acc_history[-1]\n",
    "\n",
    "def score_fn(x0):\n",
    "    lr, ws = x0\n",
    "    if lr < 0: return 0\n",
    "    if ws < 0: return 0\n",
    "    solver = score(lr, ws)\n",
    "    result =  - solver.train_acc_history[-1]\n",
    "    if result == -1:\n",
    "        raise ValueError(f'Perfect train acc {lr}, {ws}')\n",
    "    return result\n",
    "# plt.plot(solver.loss_history, 'o')\n",
    "# plt.title('Training loss history')\n",
    "# plt.xlabel('Iteration')\n",
    "# plt.ylabel('Training loss')\n",
    "# plt.show()"
   ]
  },
  {
   "cell_type": "code",
   "execution_count": 32,
   "metadata": {
    "ExecuteTime": {
     "end_time": "2019-04-29T21:29:21.038057Z",
     "start_time": "2019-04-29T21:29:20.184201Z"
    }
   },
   "outputs": [
    {
     "name": "stdout",
     "output_type": "stream",
     "text": [
      "(Iteration 1 / 40) loss: 2.281084\n",
      "(Epoch 0 / 20) train acc: 0.220000; val_acc: 0.113000\n",
      "(Epoch 1 / 20) train acc: 0.220000; val_acc: 0.110000\n",
      "(Epoch 2 / 20) train acc: 0.520000; val_acc: 0.162000\n",
      "(Epoch 3 / 20) train acc: 0.540000; val_acc: 0.167000\n",
      "(Epoch 4 / 20) train acc: 0.420000; val_acc: 0.142000\n",
      "(Epoch 5 / 20) train acc: 0.620000; val_acc: 0.152000\n",
      "(Epoch 6 / 20) train acc: 0.660000; val_acc: 0.167000\n",
      "(Epoch 7 / 20) train acc: 0.720000; val_acc: 0.152000\n",
      "(Epoch 8 / 20) train acc: 0.720000; val_acc: 0.177000\n",
      "(Epoch 9 / 20) train acc: 0.640000; val_acc: 0.158000\n",
      "(Epoch 10 / 20) train acc: 0.760000; val_acc: 0.177000\n",
      "(Epoch 11 / 20) train acc: 0.840000; val_acc: 0.161000\n",
      "(Epoch 12 / 20) train acc: 0.900000; val_acc: 0.182000\n",
      "(Epoch 13 / 20) train acc: 0.960000; val_acc: 0.196000\n",
      "(Epoch 14 / 20) train acc: 0.960000; val_acc: 0.194000\n",
      "(Epoch 15 / 20) train acc: 0.960000; val_acc: 0.199000\n",
      "(Epoch 16 / 20) train acc: 0.960000; val_acc: 0.197000\n",
      "(Epoch 17 / 20) train acc: 0.920000; val_acc: 0.176000\n",
      "(Epoch 18 / 20) train acc: 0.960000; val_acc: 0.199000\n",
      "(Epoch 19 / 20) train acc: 0.980000; val_acc: 0.216000\n",
      "(Epoch 20 / 20) train acc: 1.000000; val_acc: 0.197000\n"
     ]
    }
   ],
   "source": [
    "# TODO: Use a five-layer Net to overfit 50 training examples by \n",
    "# tweaking just the learning rate and initialization scale.\n",
    "\n",
    "num_train = 50\n",
    "small_data = {\n",
    "  'X_train': data['X_train'][:num_train],\n",
    "  'y_train': data['y_train'][:num_train],\n",
    "  'X_val': data['X_val'],\n",
    "  'y_val': data['y_val'],\n",
    "}\n",
    "\n",
    "#learning_rate = 2e-3  # Experiment with this!\n",
    "#weight_scale = 1e-5   # Experiment with this!\n",
    "learning_rate = 1e-3\n",
    "weight_scale = 5e-2\n",
    "def score(learning_rate, weight_scale):\n",
    "    #learning_rate = 10 ** -lr\n",
    "    #weight_scale = 10 ** -ws\n",
    "    model = FullyConnectedNet([100, 100, 100, 100],\n",
    "              weight_scale=weight_scale, dtype=np.float64)\n",
    "    solver = Solver(model, small_data,\n",
    "                print_every=100, num_epochs=20, batch_size=25,\n",
    "                update_rule='sgd',\n",
    "                optim_config={\n",
    "                  'learning_rate': learning_rate,\n",
    "                }\n",
    "         )\n",
    "    solver.train()\n",
    "    return solver#.train_acc_history[-1]\n",
    "solver = score(learning_rate, weight_scale)\n"
   ]
  },
  {
   "cell_type": "code",
   "execution_count": 152,
   "metadata": {
    "ExecuteTime": {
     "end_time": "2019-05-01T06:46:33.708791Z",
     "start_time": "2019-05-01T06:46:33.031479Z"
    }
   },
   "outputs": [
    {
     "name": "stdout",
     "output_type": "stream",
     "text": [
      "(Iteration 1 / 20) loss: 134.258525\n",
      "(Epoch 1 / 20) train acc: 0.220000; val_acc: 0.116000\n",
      "(Epoch 2 / 20) train acc: 0.180000; val_acc: 0.106000\n",
      "(Epoch 3 / 20) train acc: 0.320000; val_acc: 0.086000\n",
      "(Epoch 4 / 20) train acc: 0.500000; val_acc: 0.136000\n",
      "(Epoch 5 / 20) train acc: 0.500000; val_acc: 0.128000\n",
      "(Epoch 6 / 20) train acc: 0.820000; val_acc: 0.121000\n",
      "(Epoch 7 / 20) train acc: 0.880000; val_acc: 0.130000\n",
      "(Epoch 8 / 20) train acc: 0.900000; val_acc: 0.121000\n",
      "(Epoch 9 / 20) train acc: 0.960000; val_acc: 0.127000\n",
      "(Epoch 10 / 20) train acc: 0.980000; val_acc: 0.128000\n",
      "(Epoch 11 / 20) train acc: 0.980000; val_acc: 0.127000\n",
      "(Epoch 12 / 20) train acc: 1.000000; val_acc: 0.128000\n",
      "(Epoch 13 / 20) train acc: 1.000000; val_acc: 0.128000\n",
      "(Epoch 14 / 20) train acc: 1.000000; val_acc: 0.127000\n",
      "(Epoch 15 / 20) train acc: 1.000000; val_acc: 0.127000\n",
      "(Epoch 16 / 20) train acc: 1.000000; val_acc: 0.127000\n",
      "(Epoch 17 / 20) train acc: 1.000000; val_acc: 0.127000\n",
      "(Epoch 18 / 20) train acc: 1.000000; val_acc: 0.127000\n",
      "(Epoch 19 / 20) train acc: 1.000000; val_acc: 0.127000\n",
      "(Epoch 20 / 20) train acc: 1.000000; val_acc: 0.127000\n"
     ]
    }
   ],
   "source": [
    "# TODO: Use a five-layer Net to overfit 50 training examples by \n",
    "# tweaking just the learning rate and initialization scale.\n",
    "\n",
    "num_train = 50\n",
    "small_data = {\n",
    "  'X_train': data['X_train'][:num_train],\n",
    "  'y_train': data['y_train'][:num_train],\n",
    "  'X_val': data['X_val'],\n",
    "  'y_val': data['y_val'],\n",
    "}\n",
    "\n",
    "#learning_rate = 2e-3  # Experiment with this!\n",
    "#weight_scale = 1e-5   # Experiment with this!\n",
    "learning_rate = 1e-3\n",
    "weight_scale = 5e-2\n",
    "def score(learning_rate, weight_scale):\n",
    "    #learning_rate = 10 ** -lr\n",
    "    #weight_scale = 10 ** -ws\n",
    "    model = FullyConnectedNet([100, 100, 100, 100],\n",
    "              weight_scale=weight_scale, dtype=np.float64)\n",
    "    solver = Solver(model, small_data,\n",
    "                print_every=100, num_epochs=20, batch_size=50,\n",
    "                update_rule='sgd',\n",
    "                optim_config={\n",
    "                  'learning_rate': learning_rate,\n",
    "                }\n",
    "         )\n",
    "    solver.train()\n",
    "    return solver#.train_acc_history[-1]\n",
    "solver = score(1e-3, 1e-1)\n"
   ]
  },
  {
   "cell_type": "code",
   "execution_count": 87,
   "metadata": {
    "ExecuteTime": {
     "end_time": "2019-05-01T04:32:21.647004Z",
     "start_time": "2019-05-01T04:32:20.811860Z"
    }
   },
   "outputs": [
    {
     "name": "stdout",
     "output_type": "stream",
     "text": [
      "(Iteration 1 / 40) loss: 3.757418\n",
      "(Epoch 0 / 20) train acc: 0.160000; val_acc: 0.093000\n",
      "(Epoch 1 / 20) train acc: 0.180000; val_acc: 0.102000\n",
      "(Epoch 2 / 20) train acc: 0.240000; val_acc: 0.112000\n",
      "(Epoch 3 / 20) train acc: 0.260000; val_acc: 0.111000\n",
      "(Epoch 4 / 20) train acc: 0.300000; val_acc: 0.112000\n",
      "(Epoch 5 / 20) train acc: 0.360000; val_acc: 0.121000\n",
      "(Epoch 6 / 20) train acc: 0.380000; val_acc: 0.118000\n",
      "(Epoch 7 / 20) train acc: 0.400000; val_acc: 0.125000\n",
      "(Epoch 8 / 20) train acc: 0.400000; val_acc: 0.139000\n",
      "(Epoch 9 / 20) train acc: 0.420000; val_acc: 0.125000\n",
      "(Epoch 10 / 20) train acc: 0.420000; val_acc: 0.127000\n",
      "(Epoch 11 / 20) train acc: 0.420000; val_acc: 0.125000\n",
      "(Epoch 12 / 20) train acc: 0.420000; val_acc: 0.131000\n",
      "(Epoch 13 / 20) train acc: 0.420000; val_acc: 0.124000\n",
      "(Epoch 14 / 20) train acc: 0.440000; val_acc: 0.123000\n",
      "(Epoch 15 / 20) train acc: 0.420000; val_acc: 0.125000\n",
      "(Epoch 16 / 20) train acc: 0.440000; val_acc: 0.135000\n",
      "(Epoch 17 / 20) train acc: 0.440000; val_acc: 0.130000\n",
      "(Epoch 18 / 20) train acc: 0.440000; val_acc: 0.136000\n",
      "(Epoch 19 / 20) train acc: 0.440000; val_acc: 0.128000\n",
      "(Epoch 20 / 20) train acc: 0.440000; val_acc: 0.134000\n"
     ]
    }
   ],
   "source": [
    "# TODO: Use a five-layer Net to overfit 50 training examples by \n",
    "# tweaking just the learning rate and initialization scale.\n",
    "\n",
    "num_train = 50\n",
    "small_data = {\n",
    "  'X_train': data['X_train'][:num_train],\n",
    "  'y_train': data['y_train'][:num_train],\n",
    "  'X_val': data['X_val'],\n",
    "  'y_val': data['y_val'],\n",
    "}\n",
    "\n",
    "#learning_rate = 2e-3  # Experiment with this!\n",
    "#weight_scale = 1e-5   # Experiment with this!\n",
    "learning_rate = 1e-3\n",
    "weight_scale = 5e-2\n",
    "def score(learning_rate, weight_scale):\n",
    "    #learning_rate = 10 ** -lr\n",
    "    #weight_scale = 10 ** -ws\n",
    "    model = FullyConnectedNet([100, 100, 100, 100],\n",
    "              weight_scale=weight_scale, dtype=np.float64)\n",
    "    solver = Solver(model, small_data,\n",
    "                print_every=100, num_epochs=20, batch_size=25,\n",
    "                update_rule='sgd',\n",
    "                optim_config={\n",
    "                  'learning_rate': learning_rate,\n",
    "                }\n",
    "         )\n",
    "    solver.train()\n",
    "    return solver#.train_acc_history[-1]\n",
    "solver = score(learning_rate *1., weight_scale*1.)\n"
   ]
  },
  {
   "cell_type": "code",
   "execution_count": 84,
   "metadata": {
    "ExecuteTime": {
     "end_time": "2019-05-01T04:32:14.944153Z",
     "start_time": "2019-05-01T04:32:14.927475Z"
    }
   },
   "outputs": [],
   "source": [
    "#[score(.004, .05).train_acc_history[-1] for _ in range(10)]\n"
   ]
  },
  {
   "cell_type": "code",
   "execution_count": 153,
   "metadata": {
    "ExecuteTime": {
     "end_time": "2019-04-29T22:03:32.512099Z",
     "start_time": "2019-04-29T22:03:32.493460Z"
    }
   },
   "outputs": [],
   "source": [
    "#model._funcs_to_use"
   ]
  },
  {
   "cell_type": "code",
   "execution_count": 118,
   "metadata": {
    "ExecuteTime": {
     "end_time": "2019-04-29T21:50:26.009649Z",
     "start_time": "2019-04-29T21:50:25.976325Z"
    }
   },
   "outputs": [
    {
     "data": {
      "text/html": [
       "<div>\n",
       "<style scoped>\n",
       "    .dataframe tbody tr th:only-of-type {\n",
       "        vertical-align: middle;\n",
       "    }\n",
       "\n",
       "    .dataframe tbody tr th {\n",
       "        vertical-align: top;\n",
       "    }\n",
       "\n",
       "    .dataframe thead th {\n",
       "        text-align: right;\n",
       "    }\n",
       "</style>\n",
       "<table border=\"1\" class=\"dataframe\">\n",
       "  <thead>\n",
       "    <tr style=\"text-align: right;\">\n",
       "      <th></th>\n",
       "      <th>W1</th>\n",
       "      <th>W2</th>\n",
       "      <th>W3</th>\n",
       "      <th>W4</th>\n",
       "      <th>W5</th>\n",
       "      <th>b1</th>\n",
       "      <th>b2</th>\n",
       "      <th>b3</th>\n",
       "      <th>b4</th>\n",
       "      <th>b5</th>\n",
       "    </tr>\n",
       "  </thead>\n",
       "  <tbody>\n",
       "    <tr>\n",
       "      <th>5</th>\n",
       "      <td>0.008570</td>\n",
       "      <td>0.044513</td>\n",
       "      <td>0.037700</td>\n",
       "      <td>0.039387</td>\n",
       "      <td>0.139266</td>\n",
       "      <td>0.000174</td>\n",
       "      <td>0.000441</td>\n",
       "      <td>0.001239</td>\n",
       "      <td>0.003569</td>\n",
       "      <td>0.041678</td>\n",
       "    </tr>\n",
       "    <tr>\n",
       "      <th>20</th>\n",
       "      <td>0.004724</td>\n",
       "      <td>0.021839</td>\n",
       "      <td>0.019462</td>\n",
       "      <td>0.020077</td>\n",
       "      <td>0.059408</td>\n",
       "      <td>0.000076</td>\n",
       "      <td>0.000206</td>\n",
       "      <td>0.000679</td>\n",
       "      <td>0.001818</td>\n",
       "      <td>0.016803</td>\n",
       "    </tr>\n",
       "    <tr>\n",
       "      <th>39</th>\n",
       "      <td>0.003834</td>\n",
       "      <td>0.018163</td>\n",
       "      <td>0.017490</td>\n",
       "      <td>0.020137</td>\n",
       "      <td>0.063801</td>\n",
       "      <td>0.000072</td>\n",
       "      <td>0.000207</td>\n",
       "      <td>0.000703</td>\n",
       "      <td>0.001981</td>\n",
       "      <td>0.021299</td>\n",
       "    </tr>\n",
       "  </tbody>\n",
       "</table>\n",
       "</div>"
      ],
      "text/plain": [
       "          W1        W2        W3        W4        W5        b1        b2  \\\n",
       "5   0.008570  0.044513  0.037700  0.039387  0.139266  0.000174  0.000441   \n",
       "20  0.004724  0.021839  0.019462  0.020077  0.059408  0.000076  0.000206   \n",
       "39  0.003834  0.018163  0.017490  0.020137  0.063801  0.000072  0.000207   \n",
       "\n",
       "          b3        b4        b5  \n",
       "5   0.001239  0.003569  0.041678  \n",
       "20  0.000679  0.001818  0.016803  \n",
       "39  0.000703  0.001981  0.021299  "
      ]
     },
     "execution_count": 118,
     "metadata": {},
     "output_type": "execute_result"
    }
   ],
   "source": [
    "solver.grad_hist.iloc[[5, 20, -1]]"
   ]
  },
  {
   "cell_type": "code",
   "execution_count": 120,
   "metadata": {
    "ExecuteTime": {
     "end_time": "2019-04-29T21:51:19.912326Z",
     "start_time": "2019-04-29T21:51:19.891752Z"
    }
   },
   "outputs": [],
   "source": [
    "lrs = np.arange(.1, 10.,.1) * learning_rate\n",
    "#np.arange(.1, 10.,.1)"
   ]
  },
  {
   "cell_type": "code",
   "execution_count": 135,
   "metadata": {
    "ExecuteTime": {
     "end_time": "2019-04-29T21:55:57.113039Z",
     "start_time": "2019-04-29T21:55:57.094342Z"
    }
   },
   "outputs": [],
   "source": [
    "pg = ParameterGrid(dict(learning_rate=lrs, weight_scale=[ 5e-2])).l"
   ]
  },
  {
   "cell_type": "code",
   "execution_count": 139,
   "metadata": {
    "ExecuteTime": {
     "end_time": "2019-04-29T21:58:45.294864Z",
     "start_time": "2019-04-29T21:58:45.273565Z"
    }
   },
   "outputs": [],
   "source": [
    "res = _make_res(pg, scores)"
   ]
  },
  {
   "cell_type": "code",
   "execution_count": 150,
   "metadata": {
    "ExecuteTime": {
     "end_time": "2019-04-29T22:01:11.081021Z",
     "start_time": "2019-04-29T22:01:11.054879Z"
    }
   },
   "outputs": [
    {
     "data": {
      "text/html": [
       "<div>\n",
       "<style scoped>\n",
       "    .dataframe tbody tr th:only-of-type {\n",
       "        vertical-align: middle;\n",
       "    }\n",
       "\n",
       "    .dataframe tbody tr th {\n",
       "        vertical-align: top;\n",
       "    }\n",
       "\n",
       "    .dataframe thead th {\n",
       "        text-align: right;\n",
       "    }\n",
       "</style>\n",
       "<table border=\"1\" class=\"dataframe\">\n",
       "  <thead>\n",
       "    <tr style=\"text-align: right;\">\n",
       "      <th></th>\n",
       "      <th>learning_rate</th>\n",
       "      <th>weight_scale</th>\n",
       "      <th>score</th>\n",
       "    </tr>\n",
       "  </thead>\n",
       "  <tbody>\n",
       "    <tr>\n",
       "      <th>39</th>\n",
       "      <td>0.0040</td>\n",
       "      <td>0.05</td>\n",
       "      <td>0.80</td>\n",
       "    </tr>\n",
       "    <tr>\n",
       "      <th>49</th>\n",
       "      <td>0.0050</td>\n",
       "      <td>0.05</td>\n",
       "      <td>0.74</td>\n",
       "    </tr>\n",
       "    <tr>\n",
       "      <th>47</th>\n",
       "      <td>0.0048</td>\n",
       "      <td>0.05</td>\n",
       "      <td>0.74</td>\n",
       "    </tr>\n",
       "    <tr>\n",
       "      <th>97</th>\n",
       "      <td>0.0098</td>\n",
       "      <td>0.05</td>\n",
       "      <td>0.72</td>\n",
       "    </tr>\n",
       "    <tr>\n",
       "      <th>55</th>\n",
       "      <td>0.0056</td>\n",
       "      <td>0.05</td>\n",
       "      <td>0.72</td>\n",
       "    </tr>\n",
       "  </tbody>\n",
       "</table>\n",
       "</div>"
      ],
      "text/plain": [
       "    learning_rate  weight_scale  score\n",
       "39         0.0040          0.05   0.80\n",
       "49         0.0050          0.05   0.74\n",
       "47         0.0048          0.05   0.74\n",
       "97         0.0098          0.05   0.72\n",
       "55         0.0056          0.05   0.72"
      ]
     },
     "execution_count": 150,
     "metadata": {},
     "output_type": "execute_result"
    }
   ],
   "source": [
    "res.sort_values('score', ascending=False).head()"
   ]
  },
  {
   "cell_type": "code",
   "execution_count": null,
   "metadata": {},
   "outputs": [],
   "source": []
  },
  {
   "cell_type": "code",
   "execution_count": 89,
   "metadata": {
    "ExecuteTime": {
     "end_time": "2019-04-29T21:46:00.580210Z",
     "start_time": "2019-04-29T21:46:00.561147Z"
    }
   },
   "outputs": [],
   "source": [
    "#pd.Series({k: np.abs(v).mean() for k,v in model.params.items()}).round(3)"
   ]
  },
  {
   "cell_type": "code",
   "execution_count": 81,
   "metadata": {
    "ExecuteTime": {
     "end_time": "2019-04-29T21:43:49.736565Z",
     "start_time": "2019-04-29T21:43:49.715020Z"
    }
   },
   "outputs": [],
   "source": [
    "lrs = [.006, .005, .004]\n",
    "ws = lrs"
   ]
  },
  {
   "cell_type": "code",
   "execution_count": 82,
   "metadata": {
    "ExecuteTime": {
     "end_time": "2019-04-29T21:43:50.336584Z",
     "start_time": "2019-04-29T21:43:50.316919Z"
    }
   },
   "outputs": [],
   "source": [
    "pg = ParameterGrid(dict(learning_rate=lrs, weight_scale=ws)).l\n",
    "from tqdm import *"
   ]
  },
  {
   "cell_type": "code",
   "execution_count": 83,
   "metadata": {
    "ExecuteTime": {
     "end_time": "2019-04-29T21:43:59.906255Z",
     "start_time": "2019-04-29T21:43:52.099688Z"
    }
   },
   "outputs": [],
   "source": [
    "%%capture\n",
    "scores = [score(**p).train_acc_history[-1] for  p in tqdm_notebook(pg)]"
   ]
  },
  {
   "cell_type": "code",
   "execution_count": 84,
   "metadata": {
    "ExecuteTime": {
     "end_time": "2019-04-29T21:43:59.933097Z",
     "start_time": "2019-04-29T21:43:59.909780Z"
    }
   },
   "outputs": [],
   "source": [
    "res_df = _make_res(pg, scores)"
   ]
  },
  {
   "cell_type": "code",
   "execution_count": null,
   "metadata": {},
   "outputs": [],
   "source": [
    "dict(learning_rate=)"
   ]
  },
  {
   "cell_type": "code",
   "execution_count": 61,
   "metadata": {
    "ExecuteTime": {
     "end_time": "2019-04-29T21:35:11.156552Z",
     "start_time": "2019-04-29T21:35:11.127650Z"
    }
   },
   "outputs": [
    {
     "data": {
      "text/html": [
       "<div>\n",
       "<style scoped>\n",
       "    .dataframe tbody tr th:only-of-type {\n",
       "        vertical-align: middle;\n",
       "    }\n",
       "\n",
       "    .dataframe tbody tr th {\n",
       "        vertical-align: top;\n",
       "    }\n",
       "\n",
       "    .dataframe thead th {\n",
       "        text-align: right;\n",
       "    }\n",
       "</style>\n",
       "<table border=\"1\" class=\"dataframe\">\n",
       "  <thead>\n",
       "    <tr style=\"text-align: right;\">\n",
       "      <th></th>\n",
       "      <th>W1</th>\n",
       "      <th>W2</th>\n",
       "      <th>W3</th>\n",
       "      <th>W4</th>\n",
       "      <th>W5</th>\n",
       "      <th>b1</th>\n",
       "      <th>b2</th>\n",
       "      <th>b3</th>\n",
       "      <th>b4</th>\n",
       "      <th>b5</th>\n",
       "    </tr>\n",
       "  </thead>\n",
       "  <tbody>\n",
       "    <tr>\n",
       "      <th>5</th>\n",
       "      <td>0.000011</td>\n",
       "      <td>0.000049</td>\n",
       "      <td>0.000041</td>\n",
       "      <td>0.000037</td>\n",
       "      <td>0.000050</td>\n",
       "      <td>1.602916e-07</td>\n",
       "      <td>0.000002</td>\n",
       "      <td>0.000023</td>\n",
       "      <td>0.000285</td>\n",
       "      <td>0.004100</td>\n",
       "    </tr>\n",
       "    <tr>\n",
       "      <th>20</th>\n",
       "      <td>0.000098</td>\n",
       "      <td>0.000272</td>\n",
       "      <td>0.000172</td>\n",
       "      <td>0.000133</td>\n",
       "      <td>0.000310</td>\n",
       "      <td>1.149564e-06</td>\n",
       "      <td>0.000013</td>\n",
       "      <td>0.000132</td>\n",
       "      <td>0.000887</td>\n",
       "      <td>0.012505</td>\n",
       "    </tr>\n",
       "    <tr>\n",
       "      <th>39</th>\n",
       "      <td>0.000035</td>\n",
       "      <td>0.000158</td>\n",
       "      <td>0.000145</td>\n",
       "      <td>0.000146</td>\n",
       "      <td>0.000351</td>\n",
       "      <td>6.059445e-07</td>\n",
       "      <td>0.000006</td>\n",
       "      <td>0.000082</td>\n",
       "      <td>0.000915</td>\n",
       "      <td>0.007292</td>\n",
       "    </tr>\n",
       "  </tbody>\n",
       "</table>\n",
       "</div>"
      ],
      "text/plain": [
       "          W1        W2        W3        W4        W5            b1        b2  \\\n",
       "5   0.000011  0.000049  0.000041  0.000037  0.000050  1.602916e-07  0.000002   \n",
       "20  0.000098  0.000272  0.000172  0.000133  0.000310  1.149564e-06  0.000013   \n",
       "39  0.000035  0.000158  0.000145  0.000146  0.000351  6.059445e-07  0.000006   \n",
       "\n",
       "          b3        b4        b5  \n",
       "5   0.000023  0.000285  0.004100  \n",
       "20  0.000132  0.000887  0.012505  \n",
       "39  0.000082  0.000915  0.007292  "
      ]
     },
     "execution_count": 61,
     "metadata": {},
     "output_type": "execute_result"
    }
   ],
   "source": [
    "solver.grad_hist.iloc[[5,20, -1]]"
   ]
  },
  {
   "cell_type": "markdown",
   "metadata": {
    "tags": [
     "pdf-inline"
    ]
   },
   "source": [
    "## Inline Question 2: \n",
    "Did you notice anything about the comparative difficulty of training the three-layer net vs training the five layer net? In particular, based on your experience, which network seemed more sensitive to the initialization scale? Why do you think that is the case?\n",
    "\n",
    "## Answer:\n",
    "The five layer net was much more sensitive because in 5 layers it is much more likely that we get exploding (weight scale too large) or vanishing gradients (weight scale too small). This is the case because we are multiplying inputs by 5 weights instead of 3. If any of them is tiny our activations, and therefore gradients, will go to zero! "
   ]
  },
  {
   "cell_type": "markdown",
   "metadata": {},
   "source": [
    "# Update rules\n",
    "So far we have used vanilla stochastic gradient descent (SGD) as our update rule. More sophisticated update rules can make it easier to train deep networks. We will implement a few of the most commonly used update rules and compare them to vanilla SGD."
   ]
  },
  {
   "cell_type": "markdown",
   "metadata": {},
   "source": [
    "# SGD+Momentum\n",
    "Stochastic gradient descent with momentum is a widely used update rule that tends to make deep networks converge faster than vanilla stochastic gradient descent. See the Momentum Update section at http://cs231n.github.io/neural-networks-3/#sgd for more information.\n",
    "\n",
    "Open the file `cs231n/optim.py` and read the documentation at the top of the file to make sure you understand the API. Implement the SGD+momentum update rule in the function `sgd_momentum` and run the following to check your implementation. You should see errors less than e-8."
   ]
  },
  {
   "cell_type": "code",
   "execution_count": 171,
   "metadata": {
    "ExecuteTime": {
     "end_time": "2019-04-29T22:37:46.523329Z",
     "start_time": "2019-04-29T22:37:45.385079Z"
    }
   },
   "outputs": [
    {
     "name": "stdout",
     "output_type": "stream",
     "text": [
      "remote: Enumerating objects: 16, done.\u001b[K\n",
      "remote: Counting objects: 100% (16/16), done.\u001b[K\n",
      "remote: Compressing objects: 100% (6/6), done.\u001b[K\n",
      "remote: Total 11 (delta 9), reused 7 (delta 5), pack-reused 0\u001b[K\n",
      "Unpacking objects: 100% (11/11), done.\n",
      "From github.com:sshleifer/cs231n_a2\n",
      "   a4457b4..9009d0c  master     -> origin/master\n",
      "Updating a4457b4..9009d0c\n",
      "Fast-forward\n",
      " assignment2/BatchNormalization.ipynb | 44 \u001b[32m++++++++++++++++++++\u001b[m\u001b[31m-----------\u001b[m\n",
      " assignment2/cs231n/optim.py          | 51 \u001b[32m+++++++++++++++++++++++++\u001b[m\u001b[31m-----------\u001b[m\n",
      " 2 files changed, 64 insertions(+), 31 deletions(-)\n"
     ]
    }
   ],
   "source": [
    "!git pull"
   ]
  },
  {
   "cell_type": "code",
   "execution_count": 172,
   "metadata": {
    "ExecuteTime": {
     "end_time": "2019-04-29T22:37:49.774896Z",
     "start_time": "2019-04-29T22:37:49.746188Z"
    }
   },
   "outputs": [
    {
     "name": "stdout",
     "output_type": "stream",
     "text": [
      "next_w error:  8.882347033505819e-09\n",
      "velocity error:  4.269287743278663e-09\n"
     ]
    }
   ],
   "source": [
    "from cs231n.optim import sgd_momentum\n",
    "\n",
    "N, D = 4, 5\n",
    "w = np.linspace(-0.4, 0.6, num=N*D).reshape(N, D)\n",
    "dw = np.linspace(-0.6, 0.4, num=N*D).reshape(N, D)\n",
    "v = np.linspace(0.6, 0.9, num=N*D).reshape(N, D)\n",
    "\n",
    "config = {'learning_rate': 1e-3, 'velocity': v}\n",
    "next_w, _ = sgd_momentum(w, dw, config=config)\n",
    "\n",
    "expected_next_w = np.asarray([\n",
    "  [ 0.1406,      0.20738947,  0.27417895,  0.34096842,  0.40775789],\n",
    "  [ 0.47454737,  0.54133684,  0.60812632,  0.67491579,  0.74170526],\n",
    "  [ 0.80849474,  0.87528421,  0.94207368,  1.00886316,  1.07565263],\n",
    "  [ 1.14244211,  1.20923158,  1.27602105,  1.34281053,  1.4096    ]])\n",
    "expected_velocity = np.asarray([\n",
    "  [ 0.5406,      0.55475789,  0.56891579, 0.58307368,  0.59723158],\n",
    "  [ 0.61138947,  0.62554737,  0.63970526,  0.65386316,  0.66802105],\n",
    "  [ 0.68217895,  0.69633684,  0.71049474,  0.72465263,  0.73881053],\n",
    "  [ 0.75296842,  0.76712632,  0.78128421,  0.79544211,  0.8096    ]])\n",
    "\n",
    "# Should see relative errors around e-8 or less\n",
    "print('next_w error: ', rel_error(next_w, expected_next_w))\n",
    "print('velocity error: ', rel_error(expected_velocity, config['velocity']))"
   ]
  },
  {
   "cell_type": "markdown",
   "metadata": {},
   "source": [
    "Once you have done so, run the following to train a six-layer network with both SGD and SGD+momentum. You should see the SGD+momentum update rule converge faster."
   ]
  },
  {
   "cell_type": "code",
   "execution_count": 135,
   "metadata": {
    "ExecuteTime": {
     "end_time": "2019-05-01T06:18:41.837619Z",
     "start_time": "2019-05-01T06:18:38.061505Z"
    },
    "scrolled": false
   },
   "outputs": [
    {
     "name": "stdout",
     "output_type": "stream",
     "text": [
      "running with  sgd\n",
      "(Iteration 1 / 200) loss: 2.493654\n",
      "(Epoch 0 / 5) train acc: 0.110000; val_acc: 0.116000\n",
      "(Iteration 11 / 200) loss: 2.269292\n",
      "(Iteration 21 / 200) loss: 2.180554\n",
      "(Iteration 31 / 200) loss: 2.089705\n",
      "(Epoch 1 / 5) train acc: 0.232000; val_acc: 0.198000\n",
      "(Iteration 41 / 200) loss: 2.016718\n",
      "(Iteration 51 / 200) loss: 2.094164\n",
      "(Iteration 61 / 200) loss: 2.107985\n",
      "(Iteration 71 / 200) loss: 2.055118\n",
      "(Epoch 2 / 5) train acc: 0.309000; val_acc: 0.250000\n",
      "(Iteration 81 / 200) loss: 1.920327\n",
      "(Iteration 91 / 200) loss: 1.858962\n",
      "(Iteration 101 / 200) loss: 2.061039\n",
      "(Iteration 111 / 200) loss: 1.764716\n",
      "(Epoch 3 / 5) train acc: 0.362000; val_acc: 0.283000\n",
      "(Iteration 121 / 200) loss: 1.828229\n",
      "(Iteration 131 / 200) loss: 1.802012\n",
      "(Iteration 141 / 200) loss: 1.856815\n",
      "(Iteration 151 / 200) loss: 1.875180\n",
      "(Epoch 4 / 5) train acc: 0.354000; val_acc: 0.308000\n",
      "(Iteration 161 / 200) loss: 1.733224\n",
      "(Iteration 171 / 200) loss: 1.729886\n",
      "(Iteration 181 / 200) loss: 1.834207\n",
      "(Iteration 191 / 200) loss: 1.685963\n",
      "(Epoch 5 / 5) train acc: 0.391000; val_acc: 0.316000\n",
      "\n",
      "running with  sgd_momentum\n",
      "(Iteration 1 / 200) loss: 2.710406\n",
      "(Epoch 0 / 5) train acc: 0.084000; val_acc: 0.098000\n",
      "(Iteration 11 / 200) loss: 2.239584\n",
      "(Iteration 21 / 200) loss: 2.045753\n",
      "(Iteration 31 / 200) loss: 2.030558\n",
      "(Epoch 1 / 5) train acc: 0.310000; val_acc: 0.281000\n",
      "(Iteration 41 / 200) loss: 1.813516\n",
      "(Iteration 51 / 200) loss: 1.748354\n",
      "(Iteration 61 / 200) loss: 1.775907\n",
      "(Iteration 71 / 200) loss: 1.730331\n",
      "(Epoch 2 / 5) train acc: 0.401000; val_acc: 0.354000\n",
      "(Iteration 81 / 200) loss: 1.689442\n",
      "(Iteration 91 / 200) loss: 1.470033\n",
      "(Iteration 101 / 200) loss: 1.634477\n",
      "(Iteration 111 / 200) loss: 1.505674\n",
      "(Epoch 3 / 5) train acc: 0.464000; val_acc: 0.350000\n",
      "(Iteration 121 / 200) loss: 1.594734\n",
      "(Iteration 131 / 200) loss: 1.545392\n",
      "(Iteration 141 / 200) loss: 1.637984\n",
      "(Iteration 151 / 200) loss: 1.375331\n",
      "(Epoch 4 / 5) train acc: 0.534000; val_acc: 0.359000\n",
      "(Iteration 161 / 200) loss: 1.133342\n",
      "(Iteration 171 / 200) loss: 1.292910\n",
      "(Iteration 181 / 200) loss: 1.192446\n",
      "(Iteration 191 / 200) loss: 1.304040\n",
      "(Epoch 5 / 5) train acc: 0.567000; val_acc: 0.364000\n",
      "\n"
     ]
    },
    {
     "data": {
      "image/png": "[encoded data removed]",
      "text/plain": [
       "<Figure size 1080x1080 with 3 Axes>"
      ]
     },
     "metadata": {
      "needs_background": "light"
     },
     "output_type": "display_data"
    }
   ],
   "source": [
    "num_train = 4000\n",
    "small_data = {\n",
    "  'X_train': data['X_train'][:num_train],\n",
    "  'y_train': data['y_train'][:num_train],\n",
    "  'X_val': data['X_val'],\n",
    "  'y_val': data['y_val'],\n",
    "}\n",
    "\n",
    "solvers = {}\n",
    "\n",
    "for update_rule in ['sgd', 'sgd_momentum']:\n",
    "  print('running with ', update_rule)\n",
    "  model = FullyConnectedNet([100, 100, 100, 100, 100], weight_scale=5e-2)\n",
    "\n",
    "  solver = Solver(model, small_data,\n",
    "                  num_epochs=5, batch_size=100,\n",
    "                  update_rule=update_rule,\n",
    "                  optim_config={\n",
    "                    'learning_rate': 5e-3,\n",
    "                  },\n",
    "                  verbose=True)\n",
    "  solvers[update_rule] = solver\n",
    "  solver.train()\n",
    "  print()\n",
    "\n",
    "plt.subplot(3, 1, 1)\n",
    "plt.title('Training loss')\n",
    "plt.xlabel('Iteration')\n",
    "\n",
    "plt.subplot(3, 1, 2)\n",
    "plt.title('Training accuracy')\n",
    "plt.xlabel('Epoch')\n",
    "\n",
    "plt.subplot(3, 1, 3)\n",
    "plt.title('Validation accuracy')\n",
    "plt.xlabel('Epoch')\n",
    "\n",
    "for update_rule, solver in solvers.items():\n",
    "  plt.subplot(3, 1, 1)\n",
    "  plt.plot(solver.loss_history, 'o', label=\"loss_%s\" % update_rule)\n",
    "  \n",
    "  plt.subplot(3, 1, 2)\n",
    "  plt.plot(solver.train_acc_history, '-o', label=\"train_acc_%s\" % update_rule)\n",
    "\n",
    "  plt.subplot(3, 1, 3)\n",
    "  plt.plot(solver.val_acc_history, '-o', label=\"val_acc_%s\" % update_rule)\n",
    "  \n",
    "for i in [1, 2, 3]:\n",
    "  plt.subplot(3, 1, i)\n",
    "  plt.legend(loc='upper center', ncol=4)\n",
    "plt.gcf().set_size_inches(15, 15)\n",
    "plt.show()"
   ]
  },
  {
   "cell_type": "markdown",
   "metadata": {},
   "source": [
    "# RMSProp and Adam\n",
    "RMSProp [1] and Adam [2] are update rules that set per-parameter learning rates by using a running average of the second moments of gradients.\n",
    "\n",
    "In the file `cs231n/optim.py`, implement the RMSProp update rule in the `rmsprop` function and implement the Adam update rule in the `adam` function, and check your implementations using the tests below.\n",
    "\n",
    "**NOTE:** Please implement the _complete_ Adam update rule (with the bias correction mechanism), not the first simplified version mentioned in the course notes. \n",
    "\n",
    "[1] Tijmen Tieleman and Geoffrey Hinton. \"Lecture 6.5-rmsprop: Divide the gradient by a running average of its recent magnitude.\" COURSERA: Neural Networks for Machine Learning 4 (2012).\n",
    "\n",
    "[2] Diederik Kingma and Jimmy Ba, \"Adam: A Method for Stochastic Optimization\", ICLR 2015."
   ]
  },
  {
   "cell_type": "code",
   "execution_count": 136,
   "metadata": {
    "ExecuteTime": {
     "end_time": "2019-05-01T06:19:37.701630Z",
     "start_time": "2019-05-01T06:19:37.675011Z"
    }
   },
   "outputs": [
    {
     "name": "stdout",
     "output_type": "stream",
     "text": [
      "next_w error:  9.524687511038133e-08\n",
      "cache error:  2.6477955807156126e-09\n"
     ]
    }
   ],
   "source": [
    "# Test RMSProp implementation\n",
    "from cs231n.optim import rmsprop\n",
    "\n",
    "N, D = 4, 5\n",
    "w = np.linspace(-0.4, 0.6, num=N*D).reshape(N, D)\n",
    "dw = np.linspace(-0.6, 0.4, num=N*D).reshape(N, D)\n",
    "cache = np.linspace(0.6, 0.9, num=N*D).reshape(N, D)\n",
    "\n",
    "config = {'learning_rate': 1e-2, 'cache': cache}\n",
    "next_w, _ = rmsprop(w, dw, config=config)\n",
    "\n",
    "expected_next_w = np.asarray([\n",
    "  [-0.39223849, -0.34037513, -0.28849239, -0.23659121, -0.18467247],\n",
    "  [-0.132737,   -0.08078555, -0.02881884,  0.02316247,  0.07515774],\n",
    "  [ 0.12716641,  0.17918792,  0.23122175,  0.28326742,  0.33532447],\n",
    "  [ 0.38739248,  0.43947102,  0.49155973,  0.54365823,  0.59576619]])\n",
    "expected_cache = np.asarray([\n",
    "  [ 0.5976,      0.6126277,   0.6277108,   0.64284931,  0.65804321],\n",
    "  [ 0.67329252,  0.68859723,  0.70395734,  0.71937285,  0.73484377],\n",
    "  [ 0.75037008,  0.7659518,   0.78158892,  0.79728144,  0.81302936],\n",
    "  [ 0.82883269,  0.84469141,  0.86060554,  0.87657507,  0.8926    ]])\n",
    "\n",
    "# You should see relative errors around e-7 or less\n",
    "print('next_w error: ', rel_error(expected_next_w, next_w))\n",
    "print('cache error: ', rel_error(expected_cache, config['cache']))"
   ]
  },
  {
   "cell_type": "code",
   "execution_count": 137,
   "metadata": {
    "ExecuteTime": {
     "end_time": "2019-05-01T06:19:37.933884Z",
     "start_time": "2019-05-01T06:19:37.906983Z"
    }
   },
   "outputs": [
    {
     "name": "stdout",
     "output_type": "stream",
     "text": [
      "next_w error:  1.1395691798535431e-07\n",
      "v error:  4.208314038113071e-09\n",
      "m error:  4.214963193114416e-09\n"
     ]
    }
   ],
   "source": [
    "# Test Adam implementation\n",
    "from cs231n.optim import adam\n",
    "\n",
    "N, D = 4, 5\n",
    "w = np.linspace(-0.4, 0.6, num=N*D).reshape(N, D)\n",
    "dw = np.linspace(-0.6, 0.4, num=N*D).reshape(N, D)\n",
    "m = np.linspace(0.6, 0.9, num=N*D).reshape(N, D)\n",
    "v = np.linspace(0.7, 0.5, num=N*D).reshape(N, D)\n",
    "\n",
    "config = {'learning_rate': 1e-2, 'm': m, 'v': v, 't': 5}\n",
    "next_w, _ = adam(w, dw, c=config)\n",
    "\n",
    "expected_next_w = np.asarray([\n",
    "  [-0.40094747, -0.34836187, -0.29577703, -0.24319299, -0.19060977],\n",
    "  [-0.1380274,  -0.08544591, -0.03286534,  0.01971428,  0.0722929],\n",
    "  [ 0.1248705,   0.17744702,  0.23002243,  0.28259667,  0.33516969],\n",
    "  [ 0.38774145,  0.44031188,  0.49288093,  0.54544852,  0.59801459]])\n",
    "expected_v = np.asarray([\n",
    "  [ 0.69966,     0.68908382,  0.67851319,  0.66794809,  0.65738853,],\n",
    "  [ 0.64683452,  0.63628604,  0.6257431,   0.61520571,  0.60467385,],\n",
    "  [ 0.59414753,  0.58362676,  0.57311152,  0.56260183,  0.55209767,],\n",
    "  [ 0.54159906,  0.53110598,  0.52061845,  0.51013645,  0.49966,   ]])\n",
    "expected_m = np.asarray([\n",
    "  [ 0.48,        0.49947368,  0.51894737,  0.53842105,  0.55789474],\n",
    "  [ 0.57736842,  0.59684211,  0.61631579,  0.63578947,  0.65526316],\n",
    "  [ 0.67473684,  0.69421053,  0.71368421,  0.73315789,  0.75263158],\n",
    "  [ 0.77210526,  0.79157895,  0.81105263,  0.83052632,  0.85      ]])\n",
    "\n",
    "# You should see relative errors around e-7 or less\n",
    "print('next_w error: ', rel_error(expected_next_w, next_w))\n",
    "print('v error: ', rel_error(expected_v, config['v']))\n",
    "print('m error: ', rel_error(expected_m, config['m']))"
   ]
  },
  {
   "cell_type": "markdown",
   "metadata": {},
   "source": [
    "Once you have debugged your RMSProp and Adam implementations, run the following to train a pair of deep networks using these new update rules:"
   ]
  },
  {
   "cell_type": "code",
   "execution_count": 138,
   "metadata": {
    "ExecuteTime": {
     "end_time": "2019-05-01T06:19:45.422185Z",
     "start_time": "2019-05-01T06:19:40.723897Z"
    }
   },
   "outputs": [
    {
     "name": "stdout",
     "output_type": "stream",
     "text": [
      "running with  adam\n",
      "(Iteration 1 / 200) loss: 2.655617\n",
      "(Epoch 0 / 5) train acc: 0.127000; val_acc: 0.132000\n",
      "(Iteration 11 / 200) loss: 2.074554\n",
      "(Iteration 21 / 200) loss: 1.913945\n",
      "(Iteration 31 / 200) loss: 1.727885\n",
      "(Epoch 1 / 5) train acc: 0.368000; val_acc: 0.326000\n",
      "(Iteration 41 / 200) loss: 1.791224\n",
      "(Iteration 51 / 200) loss: 1.521860\n",
      "(Iteration 61 / 200) loss: 1.698180\n",
      "(Iteration 71 / 200) loss: 1.914896\n",
      "(Epoch 2 / 5) train acc: 0.452000; val_acc: 0.352000\n",
      "(Iteration 81 / 200) loss: 1.703573\n",
      "(Iteration 91 / 200) loss: 1.407137\n",
      "(Iteration 101 / 200) loss: 1.597799\n",
      "(Iteration 111 / 200) loss: 1.442840\n",
      "(Epoch 3 / 5) train acc: 0.471000; val_acc: 0.374000\n",
      "(Iteration 121 / 200) loss: 1.563845\n",
      "(Iteration 131 / 200) loss: 1.402712\n",
      "(Iteration 141 / 200) loss: 1.261471\n",
      "(Iteration 151 / 200) loss: 1.374046\n",
      "(Epoch 4 / 5) train acc: 0.556000; val_acc: 0.380000\n",
      "(Iteration 161 / 200) loss: 1.129134\n",
      "(Iteration 171 / 200) loss: 1.205174\n",
      "(Iteration 181 / 200) loss: 1.361253\n",
      "(Iteration 191 / 200) loss: 1.557785\n",
      "(Epoch 5 / 5) train acc: 0.572000; val_acc: 0.392000\n",
      "\n",
      "running with  rmsprop\n",
      "(Iteration 1 / 200) loss: 2.723648\n",
      "(Epoch 0 / 5) train acc: 0.127000; val_acc: 0.124000\n",
      "(Iteration 11 / 200) loss: 2.039021\n",
      "(Iteration 21 / 200) loss: 1.879354\n",
      "(Iteration 31 / 200) loss: 1.829183\n",
      "(Epoch 1 / 5) train acc: 0.343000; val_acc: 0.309000\n",
      "(Iteration 41 / 200) loss: 1.704466\n",
      "(Iteration 51 / 200) loss: 1.723117\n",
      "(Iteration 61 / 200) loss: 1.889186\n",
      "(Iteration 71 / 200) loss: 1.617951\n",
      "(Epoch 2 / 5) train acc: 0.457000; val_acc: 0.331000\n",
      "(Iteration 81 / 200) loss: 1.820596\n",
      "(Iteration 91 / 200) loss: 1.558963\n",
      "(Iteration 101 / 200) loss: 1.664434\n",
      "(Iteration 111 / 200) loss: 1.392446\n",
      "(Epoch 3 / 5) train acc: 0.477000; val_acc: 0.354000\n",
      "(Iteration 121 / 200) loss: 1.720200\n",
      "(Iteration 131 / 200) loss: 1.540134\n",
      "(Iteration 141 / 200) loss: 1.482897\n",
      "(Iteration 151 / 200) loss: 1.561651\n",
      "(Epoch 4 / 5) train acc: 0.519000; val_acc: 0.366000\n",
      "(Iteration 161 / 200) loss: 1.459539\n",
      "(Iteration 171 / 200) loss: 1.344932\n",
      "(Iteration 181 / 200) loss: 1.310740\n",
      "(Iteration 191 / 200) loss: 1.451647\n",
      "(Epoch 5 / 5) train acc: 0.524000; val_acc: 0.371000\n",
      "\n"
     ]
    },
    {
     "data": {
      "image/png": "[encoded data removed]",
      "text/plain": [
       "<Figure size 1080x1080 with 3 Axes>"
      ]
     },
     "metadata": {
      "needs_background": "light"
     },
     "output_type": "display_data"
    }
   ],
   "source": [
    "\n",
    "learning_rates = {'rmsprop': 1e-4, 'adam': 1e-3}\n",
    "for update_rule in ['adam', 'rmsprop']:\n",
    "  print('running with ', update_rule)\n",
    "  model = FullyConnectedNet([100, 100, 100, 100, 100], weight_scale=5e-2)\n",
    "\n",
    "  solver = Solver(model, small_data,\n",
    "                  num_epochs=5, batch_size=100,\n",
    "                  update_rule=update_rule,\n",
    "                  optim_config={\n",
    "                    'learning_rate': learning_rates[update_rule]\n",
    "                  },\n",
    "                  verbose=True)\n",
    "  solvers[update_rule] = solver\n",
    "  solver.train()\n",
    "  print()\n",
    "\n",
    "plt.subplot(3, 1, 1)\n",
    "plt.title('Training loss')\n",
    "plt.xlabel('Iteration')\n",
    "\n",
    "plt.subplot(3, 1, 2)\n",
    "plt.title('Training accuracy')\n",
    "plt.xlabel('Epoch')\n",
    "\n",
    "plt.subplot(3, 1, 3)\n",
    "plt.title('Validation accuracy')\n",
    "plt.xlabel('Epoch')\n",
    "\n",
    "for update_rule, solver in list(solvers.items()):\n",
    "  plt.subplot(3, 1, 1)\n",
    "  plt.plot(solver.loss_history, 'o', label=update_rule)\n",
    "  \n",
    "  plt.subplot(3, 1, 2)\n",
    "  plt.plot(solver.train_acc_history, '-o', label=update_rule)\n",
    "\n",
    "  plt.subplot(3, 1, 3)\n",
    "  plt.plot(solver.val_acc_history, '-o', label=update_rule)\n",
    "  \n",
    "for i in [1, 2, 3]:\n",
    "  plt.subplot(3, 1, i)\n",
    "  plt.legend(loc='upper center', ncol=4)\n",
    "plt.gcf().set_size_inches(15, 15)\n",
    "plt.show()"
   ]
  },
  {
   "cell_type": "markdown",
   "metadata": {
    "tags": [
     "pdf-inline"
    ]
   },
   "source": [
    "## Inline Question 3:\n",
    "\n",
    "AdaGrad, like Adam, is a per-parameter optimization method that uses the following update rule:\n",
    "\n",
    "```\n",
    "cache += dw**2\n",
    "w += - learning_rate * dw / (np.sqrt(cache) + eps)\n",
    "```\n",
    "\n",
    "John notices that when he was training a network with AdaGrad that the updates became very small, and that his network was learning slowly. Using your knowledge of the AdaGrad update rule, why do you think the updates would become very small? Would Adam have the same issue?\n",
    "\n",
    "\n",
    "## Answer: \n",
    "Jon is not decaying his cache, he is always adding a positive vector to it. That means that the denominator on the right side of the update always increases, so over time the updates go to 0.\n"
   ]
  },
  {
   "cell_type": "markdown",
   "metadata": {},
   "source": [
    "# Train a good model!\n",
    "Train the best fully-connected model that you can on CIFAR-10, storing your best model in the `best_model` variable. We require you to get at least 50% accuracy on the validation set using a fully-connected net.\n",
    "\n",
    "If you are careful it should be possible to get accuracies above 55%, but we don't require it for this part and won't assign extra credit for doing so. Later in the assignment we will ask you to train the best convolutional network that you can on CIFAR-10, and we would prefer that you spend your effort working on convolutional nets rather than fully-connected nets.\n",
    "\n",
    "You might find it useful to complete the `BatchNormalization.ipynb` and `Dropout.ipynb` notebooks before completing this part, since those techniques can help you train powerful models."
   ]
  },
  {
   "cell_type": "code",
   "execution_count": 150,
   "metadata": {
    "ExecuteTime": {
     "end_time": "2019-05-01T06:32:33.659886Z",
     "start_time": "2019-05-01T06:29:19.984016Z"
    }
   },
   "outputs": [
    {
     "name": "stdout",
     "output_type": "stream",
     "text": [
      "Training...\n",
      "Weight_scale: 0.010000, lr: 0.000010, val_acc: 0.324000\n",
      "Weight_scale: 0.010000, lr: 0.000500, val_acc: 0.522000\n",
      "Weight_scale: 0.010000, lr: 0.000010, val_acc: 0.319000\n",
      "Weight_scale: 0.020000, lr: 0.000010, val_acc: 0.407000\n",
      "Weight_scale: 0.020000, lr: 0.000500, val_acc: 0.499000\n",
      "Weight_scale: 0.020000, lr: 0.000010, val_acc: 0.391000\n",
      "Weight_scale: 0.005000, lr: 0.000010, val_acc: 0.263000\n",
      "Weight_scale: 0.005000, lr: 0.000500, val_acc: 0.515000\n",
      "Weight_scale: 0.005000, lr: 0.000010, val_acc: 0.263000\n",
      "Best val_acc: 0.522000\n",
      "Best weight_scale: 0.010000\n",
      "Best lr: 0.000500\n"
     ]
    }
   ],
   "source": [
    "best_model = None\n",
    "################################################################################\n",
    "# TODO: Train the best FullyConnectedNet that you can on CIFAR-10. You might   #\n",
    "# find batch/layer normalization and dropout useful. Store your best model in  #\n",
    "# the best_model variable.                                                     #\n",
    "################################################################################\n",
    "# *****START OF YOUR CODE (DO NOT DELETE/MODIFY THIS LINE)*****\n",
    "\n",
    "def score(learning_rate=1e-3, weight_scale=5e-2, update_rule='adam', layers= [100] * 4, ne=5, do=1.,\n",
    "         norm=None):\n",
    "    #learning_rate = 10 ** -lr\n",
    "    #weight_scale = 10 ** -ws\n",
    "    model = FullyConnectedNet(layers, weight_scale=weight_scale, dtype=np.float64, normalization=norm,\n",
    "                              dropout=do)\n",
    "    solver = Solver(model, small_data,\n",
    "                print_every=10000, num_epochs=ne, batch_size=100,\n",
    "                update_rule=update_rule,\n",
    "                optim_config={\n",
    "                  'learning_rate': learning_rate,\n",
    "                }\n",
    "         )\n",
    "    solver.train()\n",
    "    return model, solver#.train_acc_history[-1]\n",
    "\n",
    "best_val_acc = best_weight_scale = best_lr = 0\n",
    "for weight_scale in [1e-2, 2e-2, 5e-3]:\n",
    "    for lr in [1e-5, 5e-4, 1e-5]:\n",
    "        model, solver = score(lr, weight_scale)\n",
    "        val_acc = solver.best_val_acc        \n",
    "        print('Weight_scale: %f, lr: %f, val_acc: %f' % (weight_scale, lr, val_acc))\n",
    "        if val_acc > best_val_acc:\n",
    "            best_val_acc = val_acc\n",
    "            best_weight_scale = weight_scale\n",
    "            best_lr = lr\n",
    "            best_model = model\n",
    "\n",
    "print(\"Best val_acc: %f\" % best_val_acc)\n",
    "print(\"Best weight_scale: %f\" % best_weight_scale)\n",
    "print(\"Best lr: %f\" % best_lr)\n",
    "# *****END OF YOUR CODE (DO NOT DELETE/MODIFY THIS LINE)*****\n",
    "################################################################################\n",
    "#                              END OF YOUR CODE                                #\n",
    "#####################b###########################################################"
   ]
  },
  {
   "cell_type": "code",
   "execution_count": 120,
   "metadata": {
    "ExecuteTime": {
     "end_time": "2019-05-01T06:14:43.387558Z",
     "start_time": "2019-05-01T06:14:43.370617Z"
    }
   },
   "outputs": [],
   "source": [
    "def summary(solver):\n",
    "    return pd.DataFrame(dict(train_acc=solver.train_acc_history, val_acc=solver.val_acc_history))"
   ]
  },
  {
   "cell_type": "markdown",
   "metadata": {},
   "source": [
    "# Test your model!\n",
    "Run your best model on the validation and test sets. You should achieve above 50% accuracy on the validation set."
   ]
  },
  {
   "cell_type": "code",
   "execution_count": 151,
   "metadata": {
    "ExecuteTime": {
     "end_time": "2019-05-01T06:32:40.511091Z",
     "start_time": "2019-05-01T06:32:40.459835Z"
    }
   },
   "outputs": [
    {
     "name": "stdout",
     "output_type": "stream",
     "text": [
      "Validation set accuracy:  0.522\n",
      "Test set accuracy:  0.511\n"
     ]
    }
   ],
   "source": [
    "y_test_pred = np.argmax(best_model.loss(data['X_test']), axis=1)\n",
    "y_val_pred = np.argmax(best_model.loss(data['X_val']), axis=1)\n",
    "print('Validation set accuracy: ', (y_val_pred == data['y_val']).mean())\n",
    "print('Test set accuracy: ', (y_test_pred == data['y_test']).mean())"
   ]
  },
  {
   "cell_type": "code",
   "execution_count": null,
   "metadata": {},
   "outputs": [],
   "source": []
  }
 ],
 "metadata": {
  "kernelspec": {
   "display_name": "Python 3",
   "language": "python",
   "name": "python3"
  },
  "language_info": {
   "codemirror_mode": {
    "name": "ipython",
    "version": 3
   },
   "file_extension": ".py",
   "mimetype": "text/x-python",
   "name": "python",
   "nbconvert_exporter": "python",
   "pygments_lexer": "ipython3",
   "version": "3.7.1"
  }
 },
 "nbformat": 4,
 "nbformat_minor": 2
}
